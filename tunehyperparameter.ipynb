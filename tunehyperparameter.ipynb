{
  "nbformat": 4,
  "nbformat_minor": 0,
  "metadata": {
    "colab": {
      "provenance": [],
      "gpuType": "T4",
      "authorship_tag": "ABX9TyMwhufC7y7Nrfc+ivIPVjlN",
      "include_colab_link": true
    },
    "kernelspec": {
      "name": "python3",
      "display_name": "Python 3"
    },
    "language_info": {
      "name": "python"
    },
    "accelerator": "GPU"
  },
  "cells": [
    {
      "cell_type": "markdown",
      "metadata": {
        "id": "view-in-github",
        "colab_type": "text"
      },
      "source": [
        "<a href=\"https://colab.research.google.com/github/worldofaryavart/colab_notebooks/blob/colabnotebook/tunehyperparameter.ipynb\" target=\"_parent\"><img src=\"https://colab.research.google.com/assets/colab-badge.svg\" alt=\"Open In Colab\"/></a>"
      ]
    },
    {
      "cell_type": "code",
      "execution_count": null,
      "metadata": {
        "id": "ia8aZT9nvOMz"
      },
      "outputs": [],
      "source": [
        "import tensorflow as tf\n",
        "from tensorflow import keras"
      ]
    },
    {
      "cell_type": "code",
      "source": [
        "!pip install -q -U keras-tuner"
      ],
      "metadata": {
        "colab": {
          "base_uri": "https://localhost:8080/"
        },
        "id": "Ll2K7KgKvwkV",
        "outputId": "5682608e-2198-489c-83a3-a9df87289b75"
      },
      "execution_count": null,
      "outputs": [
        {
          "output_type": "stream",
          "name": "stdout",
          "text": [
            "\u001b[?25l     \u001b[90m━━━━━━━━━━━━━━━━━━━━━━━━━━━━━━━━━━━━━━━━\u001b[0m \u001b[32m0.0/129.1 kB\u001b[0m \u001b[31m?\u001b[0m eta \u001b[36m-:--:--\u001b[0m\r\u001b[2K     \u001b[91m━━━━━━━━━━━━━━━\u001b[0m\u001b[91m╸\u001b[0m\u001b[90m━━━━━━━━━━━━━━━━━━━━━━━━\u001b[0m \u001b[32m51.2/129.1 kB\u001b[0m \u001b[31m1.3 MB/s\u001b[0m eta \u001b[36m0:00:01\u001b[0m\r\u001b[2K     \u001b[91m━━━━━━━━━━━━━━━━━━━━━━━━━━━━━━━━━━━━━━\u001b[0m\u001b[90m╺\u001b[0m\u001b[90m━\u001b[0m \u001b[32m122.9/129.1 kB\u001b[0m \u001b[31m1.7 MB/s\u001b[0m eta \u001b[36m0:00:01\u001b[0m\r\u001b[2K     \u001b[90m━━━━━━━━━━━━━━━━━━━━━━━━━━━━━━━━━━━━━━━━\u001b[0m \u001b[32m129.1/129.1 kB\u001b[0m \u001b[31m1.6 MB/s\u001b[0m eta \u001b[36m0:00:00\u001b[0m\n",
            "\u001b[?25h"
          ]
        }
      ]
    },
    {
      "cell_type": "code",
      "source": [
        "import keras_tuner as kt"
      ],
      "metadata": {
        "id": "A0r52R3yv_5i"
      },
      "execution_count": null,
      "outputs": []
    },
    {
      "cell_type": "code",
      "source": [
        " (img_train, label_train), (img_test, label_test) = keras.datasets.fashion_mnist.load_data()"
      ],
      "metadata": {
        "id": "7qIUNRM4wFJR",
        "colab": {
          "base_uri": "https://localhost:8080/"
        },
        "outputId": "0fa02c27-6b87-4746-e3e1-c907441d00db"
      },
      "execution_count": null,
      "outputs": [
        {
          "output_type": "stream",
          "name": "stdout",
          "text": [
            "Downloading data from https://storage.googleapis.com/tensorflow/tf-keras-datasets/train-labels-idx1-ubyte.gz\n",
            "29515/29515 [==============================] - 0s 0us/step\n",
            "Downloading data from https://storage.googleapis.com/tensorflow/tf-keras-datasets/train-images-idx3-ubyte.gz\n",
            "26421880/26421880 [==============================] - 0s 0us/step\n",
            "Downloading data from https://storage.googleapis.com/tensorflow/tf-keras-datasets/t10k-labels-idx1-ubyte.gz\n",
            "5148/5148 [==============================] - 0s 0us/step\n",
            "Downloading data from https://storage.googleapis.com/tensorflow/tf-keras-datasets/t10k-images-idx3-ubyte.gz\n",
            "4422102/4422102 [==============================] - 0s 0us/step\n"
          ]
        }
      ]
    },
    {
      "cell_type": "code",
      "source": [
        "img_train = img_train.astype('float32')/ 255.0\n",
        "img_test = img_test.astype('float') /255.0"
      ],
      "metadata": {
        "id": "EuymwFwFC4zN"
      },
      "execution_count": null,
      "outputs": []
    },
    {
      "cell_type": "code",
      "source": [
        "def model_builder(hp):\n",
        "  model = keras.Sequential()\n",
        "  model.add(keras.layers.Flatten(input_shape = (28,28)))\n",
        "\n",
        "  hp_units = hp.Int('units', min_value = 32, max_value = 512, step = 32)\n",
        "  model.add(keras.layers.Dense(units = hp_units, activation = 'relu'))\n",
        "  model.add(keras.layers.Dense(10))\n",
        "\n",
        "  hp_learning_rate = hp.Choice('learning_rate', values = [1e-2, 1e-3, 1e-4])\n",
        "\n",
        "  model.compile(optimizer = keras.optimizers.Adam(learning_rate = hp_learning_rate),\n",
        "                loss =keras.losses.SparseCategoricalCrossentropy(from_logits = True),\n",
        "                metrics = ['accuracy'])\n",
        "\n",
        "  return model"
      ],
      "metadata": {
        "id": "CwJBBbEXEZ-9"
      },
      "execution_count": null,
      "outputs": []
    },
    {
      "cell_type": "code",
      "source": [
        "tuner = kt.Hyperband(model_builder,\n",
        "                     objective = 'val_accuracy',\n",
        "                     max_epochs = 10,\n",
        "                     factor = 3,\n",
        "                     directory = 'my_dir',\n",
        "                     project_name = 'intro_to_kt')"
      ],
      "metadata": {
        "id": "IVLS8PkpFTK5"
      },
      "execution_count": null,
      "outputs": []
    },
    {
      "cell_type": "code",
      "source": [
        "stop_early = tf.keras.callbacks.EarlyStopping(monitor = 'val_loss', patience = 5)"
      ],
      "metadata": {
        "id": "koGBakeNLLM9"
      },
      "execution_count": null,
      "outputs": []
    },
    {
      "cell_type": "code",
      "source": [
        "tuner.search(img_train, label_train, epochs = 50, validation_split = 0.2, callbacks = [stop_early])\n",
        "best_hps = tuner.get_best_hyperparameters(num_trials=1)[0]\n",
        "\n",
        "print(f\"\"\"\n",
        "The hyperparameter search is complete. The optimal number of units in the first densely-connected\n",
        "layer is {best_hps.get('units')} and the optimal learning rate for the optimizer\n",
        "is {best_hps.get('learning_rate')}.\n",
        "\"\"\")\n"
      ],
      "metadata": {
        "colab": {
          "base_uri": "https://localhost:8080/"
        },
        "id": "DE9iol-vLhKx",
        "outputId": "5363d7c8-4b94-41d1-c98c-926dd54a5771"
      },
      "execution_count": null,
      "outputs": [
        {
          "output_type": "stream",
          "name": "stdout",
          "text": [
            "Trial 30 Complete [00h 00m 49s]\n",
            "val_accuracy: 0.8705000281333923\n",
            "\n",
            "Best val_accuracy So Far: 0.8918333053588867\n",
            "Total elapsed time: 00h 12m 21s\n",
            "\n",
            "The hyperparameter search is complete. The optimal number of units in the first densely-connected\n",
            "layer is 256 and the optimal learning rate for the optimizer\n",
            "is 0.001.\n",
            "\n"
          ]
        }
      ]
    },
    {
      "cell_type": "code",
      "source": [
        "model = tuner.hypermodel.build(best_hps)\n",
        "history = model.fit(img_train, label_train, epochs = 50, validation_split = 0.2)\n",
        "\n",
        "val_acc_per_epoch = history.history['val_accuracy']\n",
        "best_epoch = val_acc_per_epoch.index(max(val_acc_per_epoch))+1\n",
        "print(\"Best epoch: %d\" % (best_epoch,))"
      ],
      "metadata": {
        "colab": {
          "base_uri": "https://localhost:8080/"
        },
        "id": "y1A5uasSMJ1N",
        "outputId": "379a6cf9-f366-46a7-93d8-6cf214376420"
      },
      "execution_count": null,
      "outputs": [
        {
          "output_type": "stream",
          "name": "stdout",
          "text": [
            "Epoch 1/50\n",
            "1500/1500 [==============================] - 6s 3ms/step - loss: 0.5007 - accuracy: 0.8235 - val_loss: 0.4064 - val_accuracy: 0.8581\n",
            "Epoch 2/50\n",
            "1500/1500 [==============================] - 4s 3ms/step - loss: 0.3742 - accuracy: 0.8650 - val_loss: 0.3840 - val_accuracy: 0.8604\n",
            "Epoch 3/50\n",
            "1500/1500 [==============================] - 4s 3ms/step - loss: 0.3338 - accuracy: 0.8764 - val_loss: 0.3709 - val_accuracy: 0.8677\n",
            "Epoch 4/50\n",
            "1500/1500 [==============================] - 5s 3ms/step - loss: 0.3091 - accuracy: 0.8857 - val_loss: 0.3297 - val_accuracy: 0.8771\n",
            "Epoch 5/50\n",
            "1500/1500 [==============================] - 4s 3ms/step - loss: 0.2922 - accuracy: 0.8910 - val_loss: 0.3437 - val_accuracy: 0.8800\n",
            "Epoch 6/50\n",
            "1500/1500 [==============================] - 5s 3ms/step - loss: 0.2752 - accuracy: 0.8982 - val_loss: 0.3216 - val_accuracy: 0.8863\n",
            "Epoch 7/50\n",
            "1500/1500 [==============================] - 4s 3ms/step - loss: 0.2623 - accuracy: 0.9031 - val_loss: 0.3370 - val_accuracy: 0.8763\n",
            "Epoch 8/50\n",
            "1500/1500 [==============================] - 4s 3ms/step - loss: 0.2492 - accuracy: 0.9071 - val_loss: 0.3270 - val_accuracy: 0.8832\n",
            "Epoch 9/50\n",
            "1500/1500 [==============================] - 5s 3ms/step - loss: 0.2401 - accuracy: 0.9098 - val_loss: 0.3100 - val_accuracy: 0.8894\n",
            "Epoch 10/50\n",
            "1500/1500 [==============================] - 4s 3ms/step - loss: 0.2303 - accuracy: 0.9133 - val_loss: 0.3476 - val_accuracy: 0.8750\n",
            "Epoch 11/50\n",
            "1500/1500 [==============================] - 4s 3ms/step - loss: 0.2208 - accuracy: 0.9169 - val_loss: 0.3245 - val_accuracy: 0.8861\n",
            "Epoch 12/50\n",
            "1500/1500 [==============================] - 5s 3ms/step - loss: 0.2123 - accuracy: 0.9203 - val_loss: 0.3218 - val_accuracy: 0.8932\n",
            "Epoch 13/50\n",
            "1500/1500 [==============================] - 4s 3ms/step - loss: 0.2061 - accuracy: 0.9228 - val_loss: 0.3318 - val_accuracy: 0.8907\n",
            "Epoch 14/50\n",
            "1500/1500 [==============================] - 4s 3ms/step - loss: 0.1972 - accuracy: 0.9255 - val_loss: 0.3631 - val_accuracy: 0.8852\n",
            "Epoch 15/50\n",
            "1500/1500 [==============================] - 5s 3ms/step - loss: 0.1917 - accuracy: 0.9273 - val_loss: 0.3323 - val_accuracy: 0.8932\n",
            "Epoch 16/50\n",
            "1500/1500 [==============================] - 4s 3ms/step - loss: 0.1866 - accuracy: 0.9299 - val_loss: 0.3323 - val_accuracy: 0.8922\n",
            "Epoch 17/50\n",
            "1500/1500 [==============================] - 4s 3ms/step - loss: 0.1778 - accuracy: 0.9319 - val_loss: 0.3209 - val_accuracy: 0.8942\n",
            "Epoch 18/50\n",
            "1500/1500 [==============================] - 4s 3ms/step - loss: 0.1747 - accuracy: 0.9348 - val_loss: 0.3572 - val_accuracy: 0.8892\n",
            "Epoch 19/50\n",
            "1500/1500 [==============================] - 4s 3ms/step - loss: 0.1674 - accuracy: 0.9369 - val_loss: 0.3330 - val_accuracy: 0.8900\n",
            "Epoch 20/50\n",
            "1500/1500 [==============================] - 5s 3ms/step - loss: 0.1639 - accuracy: 0.9382 - val_loss: 0.3605 - val_accuracy: 0.8907\n",
            "Epoch 21/50\n",
            "1500/1500 [==============================] - 4s 3ms/step - loss: 0.1562 - accuracy: 0.9417 - val_loss: 0.3558 - val_accuracy: 0.8910\n",
            "Epoch 22/50\n",
            "1500/1500 [==============================] - 4s 3ms/step - loss: 0.1536 - accuracy: 0.9431 - val_loss: 0.3531 - val_accuracy: 0.8907\n",
            "Epoch 23/50\n",
            "1500/1500 [==============================] - 5s 3ms/step - loss: 0.1484 - accuracy: 0.9441 - val_loss: 0.3392 - val_accuracy: 0.8972\n",
            "Epoch 24/50\n",
            "1500/1500 [==============================] - 4s 3ms/step - loss: 0.1429 - accuracy: 0.9457 - val_loss: 0.3770 - val_accuracy: 0.8934\n",
            "Epoch 25/50\n",
            "1500/1500 [==============================] - 4s 3ms/step - loss: 0.1405 - accuracy: 0.9472 - val_loss: 0.3721 - val_accuracy: 0.8938\n",
            "Epoch 26/50\n",
            "1500/1500 [==============================] - 5s 3ms/step - loss: 0.1357 - accuracy: 0.9494 - val_loss: 0.3776 - val_accuracy: 0.8969\n",
            "Epoch 27/50\n",
            "1500/1500 [==============================] - 4s 3ms/step - loss: 0.1338 - accuracy: 0.9489 - val_loss: 0.3937 - val_accuracy: 0.8938\n",
            "Epoch 28/50\n",
            "1500/1500 [==============================] - 4s 3ms/step - loss: 0.1284 - accuracy: 0.9511 - val_loss: 0.3939 - val_accuracy: 0.8952\n",
            "Epoch 29/50\n",
            "1500/1500 [==============================] - 5s 3ms/step - loss: 0.1281 - accuracy: 0.9519 - val_loss: 0.4119 - val_accuracy: 0.8928\n",
            "Epoch 30/50\n",
            "1500/1500 [==============================] - 4s 3ms/step - loss: 0.1231 - accuracy: 0.9529 - val_loss: 0.3913 - val_accuracy: 0.8967\n",
            "Epoch 31/50\n",
            "1500/1500 [==============================] - 4s 3ms/step - loss: 0.1188 - accuracy: 0.9547 - val_loss: 0.3954 - val_accuracy: 0.8960\n",
            "Epoch 32/50\n",
            "1500/1500 [==============================] - 4s 3ms/step - loss: 0.1162 - accuracy: 0.9565 - val_loss: 0.4111 - val_accuracy: 0.8903\n",
            "Epoch 33/50\n",
            "1500/1500 [==============================] - 4s 3ms/step - loss: 0.1135 - accuracy: 0.9578 - val_loss: 0.4215 - val_accuracy: 0.8946\n",
            "Epoch 34/50\n",
            "1500/1500 [==============================] - 5s 3ms/step - loss: 0.1129 - accuracy: 0.9583 - val_loss: 0.3997 - val_accuracy: 0.8947\n",
            "Epoch 35/50\n",
            "1500/1500 [==============================] - 4s 3ms/step - loss: 0.1063 - accuracy: 0.9603 - val_loss: 0.4248 - val_accuracy: 0.8953\n",
            "Epoch 36/50\n",
            "1500/1500 [==============================] - 4s 3ms/step - loss: 0.1089 - accuracy: 0.9581 - val_loss: 0.4220 - val_accuracy: 0.8978\n",
            "Epoch 37/50\n",
            "1500/1500 [==============================] - 5s 3ms/step - loss: 0.1027 - accuracy: 0.9623 - val_loss: 0.4480 - val_accuracy: 0.8929\n",
            "Epoch 38/50\n",
            "1500/1500 [==============================] - 4s 3ms/step - loss: 0.1026 - accuracy: 0.9618 - val_loss: 0.4477 - val_accuracy: 0.8944\n",
            "Epoch 39/50\n",
            "1500/1500 [==============================] - 4s 3ms/step - loss: 0.0982 - accuracy: 0.9621 - val_loss: 0.4323 - val_accuracy: 0.8971\n",
            "Epoch 40/50\n",
            "1500/1500 [==============================] - 5s 3ms/step - loss: 0.0966 - accuracy: 0.9638 - val_loss: 0.4593 - val_accuracy: 0.8982\n",
            "Epoch 41/50\n",
            "1500/1500 [==============================] - 4s 3ms/step - loss: 0.0929 - accuracy: 0.9646 - val_loss: 0.5115 - val_accuracy: 0.8840\n",
            "Epoch 42/50\n",
            "1500/1500 [==============================] - 4s 3ms/step - loss: 0.0929 - accuracy: 0.9646 - val_loss: 0.4745 - val_accuracy: 0.8929\n",
            "Epoch 43/50\n",
            "1500/1500 [==============================] - 5s 3ms/step - loss: 0.0930 - accuracy: 0.9661 - val_loss: 0.4452 - val_accuracy: 0.8972\n",
            "Epoch 44/50\n",
            "1500/1500 [==============================] - 4s 3ms/step - loss: 0.0859 - accuracy: 0.9671 - val_loss: 0.4660 - val_accuracy: 0.8945\n",
            "Epoch 45/50\n",
            "1500/1500 [==============================] - 4s 3ms/step - loss: 0.0870 - accuracy: 0.9673 - val_loss: 0.4847 - val_accuracy: 0.8915\n",
            "Epoch 46/50\n",
            "1500/1500 [==============================] - 4s 3ms/step - loss: 0.0868 - accuracy: 0.9675 - val_loss: 0.5001 - val_accuracy: 0.8913\n",
            "Epoch 47/50\n",
            "1500/1500 [==============================] - 4s 3ms/step - loss: 0.0845 - accuracy: 0.9690 - val_loss: 0.5007 - val_accuracy: 0.8948\n",
            "Epoch 48/50\n",
            "1500/1500 [==============================] - 5s 3ms/step - loss: 0.0825 - accuracy: 0.9688 - val_loss: 0.5136 - val_accuracy: 0.8934\n",
            "Epoch 49/50\n",
            "1500/1500 [==============================] - 4s 3ms/step - loss: 0.0803 - accuracy: 0.9694 - val_loss: 0.4958 - val_accuracy: 0.8964\n",
            "Epoch 50/50\n",
            "1500/1500 [==============================] - 4s 3ms/step - loss: 0.0787 - accuracy: 0.9705 - val_loss: 0.5228 - val_accuracy: 0.8919\n",
            "Best epoch: 40\n"
          ]
        }
      ]
    },
    {
      "cell_type": "code",
      "source": [
        "hypermodel = tuner.hypermodel.build(best_hps)\n",
        "\n",
        "hypermodel.fit(img_train, label_train, epochs = best_epoch, validation_split = 0.2)"
      ],
      "metadata": {
        "colab": {
          "base_uri": "https://localhost:8080/"
        },
        "id": "tOHxs-dlMnk3",
        "outputId": "63fa2c9e-aefc-43ed-cd15-3958250df479"
      },
      "execution_count": null,
      "outputs": [
        {
          "output_type": "stream",
          "name": "stdout",
          "text": [
            "Epoch 1/40\n",
            "1500/1500 [==============================] - 6s 3ms/step - loss: 0.5040 - accuracy: 0.8236 - val_loss: 0.4013 - val_accuracy: 0.8557\n",
            "Epoch 2/40\n",
            "1500/1500 [==============================] - 4s 3ms/step - loss: 0.3761 - accuracy: 0.8642 - val_loss: 0.3930 - val_accuracy: 0.8519\n",
            "Epoch 3/40\n",
            "1500/1500 [==============================] - 4s 3ms/step - loss: 0.3367 - accuracy: 0.8769 - val_loss: 0.3602 - val_accuracy: 0.8689\n",
            "Epoch 4/40\n",
            "1500/1500 [==============================] - 4s 3ms/step - loss: 0.3107 - accuracy: 0.8838 - val_loss: 0.3266 - val_accuracy: 0.8807\n",
            "Epoch 5/40\n",
            "1500/1500 [==============================] - 4s 3ms/step - loss: 0.2897 - accuracy: 0.8926 - val_loss: 0.3277 - val_accuracy: 0.8831\n",
            "Epoch 6/40\n",
            "1500/1500 [==============================] - 5s 3ms/step - loss: 0.2753 - accuracy: 0.8981 - val_loss: 0.3230 - val_accuracy: 0.8864\n",
            "Epoch 7/40\n",
            "1500/1500 [==============================] - 4s 3ms/step - loss: 0.2619 - accuracy: 0.9017 - val_loss: 0.3396 - val_accuracy: 0.8811\n",
            "Epoch 8/40\n",
            "1500/1500 [==============================] - 4s 3ms/step - loss: 0.2491 - accuracy: 0.9067 - val_loss: 0.3156 - val_accuracy: 0.8874\n",
            "Epoch 9/40\n",
            "1500/1500 [==============================] - 5s 3ms/step - loss: 0.2385 - accuracy: 0.9112 - val_loss: 0.3135 - val_accuracy: 0.8857\n",
            "Epoch 10/40\n",
            "1500/1500 [==============================] - 4s 3ms/step - loss: 0.2289 - accuracy: 0.9143 - val_loss: 0.3110 - val_accuracy: 0.8892\n",
            "Epoch 11/40\n",
            "1500/1500 [==============================] - 4s 3ms/step - loss: 0.2211 - accuracy: 0.9173 - val_loss: 0.3380 - val_accuracy: 0.8847\n",
            "Epoch 12/40\n",
            "1500/1500 [==============================] - 5s 3ms/step - loss: 0.2101 - accuracy: 0.9210 - val_loss: 0.3388 - val_accuracy: 0.8899\n",
            "Epoch 13/40\n",
            "1500/1500 [==============================] - 4s 3ms/step - loss: 0.2033 - accuracy: 0.9245 - val_loss: 0.3458 - val_accuracy: 0.8871\n",
            "Epoch 14/40\n",
            "1500/1500 [==============================] - 4s 3ms/step - loss: 0.1988 - accuracy: 0.9260 - val_loss: 0.3091 - val_accuracy: 0.8953\n",
            "Epoch 15/40\n",
            "1500/1500 [==============================] - 5s 3ms/step - loss: 0.1887 - accuracy: 0.9299 - val_loss: 0.3289 - val_accuracy: 0.8923\n",
            "Epoch 16/40\n",
            "1500/1500 [==============================] - 4s 3ms/step - loss: 0.1830 - accuracy: 0.9311 - val_loss: 0.3370 - val_accuracy: 0.8896\n",
            "Epoch 17/40\n",
            "1500/1500 [==============================] - 4s 3ms/step - loss: 0.1764 - accuracy: 0.9345 - val_loss: 0.3430 - val_accuracy: 0.8880\n",
            "Epoch 18/40\n",
            "1500/1500 [==============================] - 5s 3ms/step - loss: 0.1705 - accuracy: 0.9361 - val_loss: 0.3278 - val_accuracy: 0.8957\n",
            "Epoch 19/40\n",
            "1500/1500 [==============================] - 4s 3ms/step - loss: 0.1662 - accuracy: 0.9368 - val_loss: 0.3711 - val_accuracy: 0.8866\n",
            "Epoch 20/40\n",
            "1500/1500 [==============================] - 5s 3ms/step - loss: 0.1589 - accuracy: 0.9403 - val_loss: 0.3539 - val_accuracy: 0.8917\n",
            "Epoch 21/40\n",
            "1500/1500 [==============================] - 4s 3ms/step - loss: 0.1561 - accuracy: 0.9411 - val_loss: 0.3697 - val_accuracy: 0.8898\n",
            "Epoch 22/40\n",
            "1500/1500 [==============================] - 4s 3ms/step - loss: 0.1500 - accuracy: 0.9430 - val_loss: 0.3460 - val_accuracy: 0.8945\n",
            "Epoch 23/40\n",
            "1500/1500 [==============================] - 5s 3ms/step - loss: 0.1468 - accuracy: 0.9450 - val_loss: 0.3494 - val_accuracy: 0.8967\n",
            "Epoch 24/40\n",
            "1500/1500 [==============================] - 4s 3ms/step - loss: 0.1449 - accuracy: 0.9455 - val_loss: 0.3606 - val_accuracy: 0.8925\n",
            "Epoch 25/40\n",
            "1500/1500 [==============================] - 4s 3ms/step - loss: 0.1368 - accuracy: 0.9487 - val_loss: 0.3537 - val_accuracy: 0.8992\n",
            "Epoch 26/40\n",
            "1500/1500 [==============================] - 5s 3ms/step - loss: 0.1375 - accuracy: 0.9488 - val_loss: 0.3667 - val_accuracy: 0.8963\n",
            "Epoch 27/40\n",
            "1500/1500 [==============================] - 4s 3ms/step - loss: 0.1296 - accuracy: 0.9517 - val_loss: 0.3618 - val_accuracy: 0.8962\n",
            "Epoch 28/40\n",
            "1500/1500 [==============================] - 4s 3ms/step - loss: 0.1280 - accuracy: 0.9522 - val_loss: 0.3727 - val_accuracy: 0.8975\n",
            "Epoch 29/40\n",
            "1500/1500 [==============================] - 5s 3ms/step - loss: 0.1239 - accuracy: 0.9539 - val_loss: 0.4144 - val_accuracy: 0.8854\n",
            "Epoch 30/40\n",
            "1500/1500 [==============================] - 4s 3ms/step - loss: 0.1211 - accuracy: 0.9547 - val_loss: 0.4065 - val_accuracy: 0.8928\n",
            "Epoch 31/40\n",
            "1500/1500 [==============================] - 4s 3ms/step - loss: 0.1195 - accuracy: 0.9556 - val_loss: 0.4420 - val_accuracy: 0.8876\n",
            "Epoch 32/40\n",
            "1500/1500 [==============================] - 5s 3ms/step - loss: 0.1151 - accuracy: 0.9565 - val_loss: 0.4032 - val_accuracy: 0.8938\n",
            "Epoch 33/40\n",
            "1500/1500 [==============================] - 4s 3ms/step - loss: 0.1101 - accuracy: 0.9590 - val_loss: 0.4223 - val_accuracy: 0.8938\n",
            "Epoch 34/40\n",
            "1500/1500 [==============================] - 5s 3ms/step - loss: 0.1106 - accuracy: 0.9574 - val_loss: 0.4306 - val_accuracy: 0.8899\n",
            "Epoch 35/40\n",
            "1500/1500 [==============================] - 4s 3ms/step - loss: 0.1099 - accuracy: 0.9582 - val_loss: 0.4186 - val_accuracy: 0.8958\n",
            "Epoch 36/40\n",
            "1500/1500 [==============================] - 4s 3ms/step - loss: 0.1023 - accuracy: 0.9615 - val_loss: 0.4658 - val_accuracy: 0.8911\n",
            "Epoch 37/40\n",
            "1500/1500 [==============================] - 5s 3ms/step - loss: 0.1020 - accuracy: 0.9617 - val_loss: 0.4401 - val_accuracy: 0.8918\n",
            "Epoch 38/40\n",
            "1500/1500 [==============================] - 4s 3ms/step - loss: 0.0991 - accuracy: 0.9629 - val_loss: 0.4590 - val_accuracy: 0.8916\n",
            "Epoch 39/40\n",
            "1500/1500 [==============================] - 4s 3ms/step - loss: 0.0987 - accuracy: 0.9631 - val_loss: 0.4395 - val_accuracy: 0.8971\n",
            "Epoch 40/40\n",
            "1500/1500 [==============================] - 5s 3ms/step - loss: 0.0982 - accuracy: 0.9633 - val_loss: 0.4468 - val_accuracy: 0.8942\n"
          ]
        },
        {
          "output_type": "execute_result",
          "data": {
            "text/plain": [
              "<keras.src.callbacks.History at 0x78397787d540>"
            ]
          },
          "metadata": {},
          "execution_count": 13
        }
      ]
    },
    {
      "cell_type": "code",
      "source": [
        "eval_result = hypermodel.evaluate(img_test, label_test)\n",
        "print(\"[test loss, test accuracy]: \", eval_result)"
      ],
      "metadata": {
        "id": "uok91aVgM4gR"
      },
      "execution_count": null,
      "outputs": []
    }
  ]
}
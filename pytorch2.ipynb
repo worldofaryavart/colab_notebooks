{
  "nbformat": 4,
  "nbformat_minor": 0,
  "metadata": {
    "colab": {
      "provenance": [],
      "authorship_tag": "ABX9TyM58F8YKa/CdZuIIEDjOUs7",
      "include_colab_link": true
    },
    "kernelspec": {
      "name": "python3",
      "display_name": "Python 3"
    },
    "language_info": {
      "name": "python"
    }
  },
  "cells": [
    {
      "cell_type": "markdown",
      "metadata": {
        "id": "view-in-github",
        "colab_type": "text"
      },
      "source": [
        "<a href=\"https://colab.research.google.com/github/worldofaryavart/colab_notebooks/blob/colabnotebook/pytorch2.ipynb\" target=\"_parent\"><img src=\"https://colab.research.google.com/assets/colab-badge.svg\" alt=\"Open In Colab\"/></a>"
      ]
    },
    {
      "cell_type": "code",
      "execution_count": 259,
      "metadata": {
        "id": "SIuBeCbx-mqS",
        "colab": {
          "base_uri": "https://localhost:8080/",
          "height": 36
        },
        "outputId": "043410fa-6c57-4163-f0fd-b1951c7754ee"
      },
      "outputs": [
        {
          "output_type": "execute_result",
          "data": {
            "text/plain": [
              "'2.3.0+cu121'"
            ],
            "application/vnd.google.colaboratory.intrinsic+json": {
              "type": "string"
            }
          },
          "metadata": {},
          "execution_count": 259
        }
      ],
      "source": [
        "# Pytorch workflow\n",
        "import torch\n",
        "from torch import nn # nn contains all of Pytorch building blocks for neural networks\n",
        "import matplotlib.pyplot as plt\n",
        "# Check PyTroch version\n",
        "torch.__version__"
      ]
    },
    {
      "cell_type": "markdown",
      "source": [
        "###Data ( Preparing and loading)"
      ],
      "metadata": {
        "id": "10pV06Ixz5pf"
      }
    },
    {
      "cell_type": "code",
      "source": [
        "# Create  *known* parameters\n",
        "weight = 0.7\n",
        "bias = 0.3\n",
        "\n",
        "# Create data\n",
        "start = 0\n",
        "end = 1\n",
        "step = 0.02\n",
        "X = torch.arange(start, end, step).unsqueeze(dim=1)\n",
        "y = weight * X + bias"
      ],
      "metadata": {
        "id": "zrkhV_7bzvjb"
      },
      "execution_count": 260,
      "outputs": []
    },
    {
      "cell_type": "code",
      "source": [
        "X[:10], y[:10], len(X), len(y)"
      ],
      "metadata": {
        "colab": {
          "base_uri": "https://localhost:8080/"
        },
        "id": "T-ThFcCg1goD",
        "outputId": "f2835e1d-fa3b-44ef-fb2f-7d8cfff74021"
      },
      "execution_count": 261,
      "outputs": [
        {
          "output_type": "execute_result",
          "data": {
            "text/plain": [
              "(tensor([[0.0000],\n",
              "         [0.0200],\n",
              "         [0.0400],\n",
              "         [0.0600],\n",
              "         [0.0800],\n",
              "         [0.1000],\n",
              "         [0.1200],\n",
              "         [0.1400],\n",
              "         [0.1600],\n",
              "         [0.1800]]),\n",
              " tensor([[0.3000],\n",
              "         [0.3140],\n",
              "         [0.3280],\n",
              "         [0.3420],\n",
              "         [0.3560],\n",
              "         [0.3700],\n",
              "         [0.3840],\n",
              "         [0.3980],\n",
              "         [0.4120],\n",
              "         [0.4260]]),\n",
              " 50,\n",
              " 50)"
            ]
          },
          "metadata": {},
          "execution_count": 261
        }
      ]
    },
    {
      "cell_type": "markdown",
      "source": [
        "### Split data into training and test sets"
      ],
      "metadata": {
        "id": "GtMhw-8u2X_c"
      }
    },
    {
      "cell_type": "code",
      "source": [
        "# Create  a trining and test split\n",
        "train_split = int(0.8 * len(X))\n",
        "X_train, y_train = X[:train_split], y[:train_split]\n",
        "X_test, y_test = X[train_split:], y[train_split:]\n",
        "len(X_train), len(y_train), len(X_test), len(y_test)"
      ],
      "metadata": {
        "colab": {
          "base_uri": "https://localhost:8080/"
        },
        "id": "6pMxuZ2J1oZw",
        "outputId": "0a595a33-7614-4899-d29d-68bbacf12385"
      },
      "execution_count": 262,
      "outputs": [
        {
          "output_type": "execute_result",
          "data": {
            "text/plain": [
              "(40, 40, 10, 10)"
            ]
          },
          "metadata": {},
          "execution_count": 262
        }
      ]
    },
    {
      "cell_type": "markdown",
      "source": [
        "###Visualizing the data"
      ],
      "metadata": {
        "id": "btkw6bvq9yz0"
      }
    },
    {
      "cell_type": "code",
      "source": [
        "#visualize the data\n",
        "def plot_prediction(train_data = X_train, train_labels = y_train, test_data = X_test, test_labels = y_test, predictions = None):\n",
        "  \"\"\"\n",
        "  Plots training data, test data and compares predictions.\n",
        "  \"\"\"\n",
        "  plt.figure(figsize=(10, 7))\n",
        "\n",
        "  # Plot training data in blue\n",
        "  plt.scatter(train_data, train_labels, c=\"b\", s=4, label=\"Training data\")\n",
        "\n",
        "  #Plot testting data in green\n",
        "  plt.scatter(test_data, test_labels, c=\"g\", s=4, label=\"Testing data\")\n",
        "\n",
        "  # Are there predictions?\n",
        "  if predictions is not None:\n",
        "    # Plot the predictions if they exist\n",
        "    plt.scatter(test_data, predictions, c=\"r\", s=4, label=\"Predictions\")\n",
        "\n",
        "  #Show te labels\n",
        "  plt.legend(prop = {'size':14})"
      ],
      "metadata": {
        "id": "QqvmY12H9OlX"
      },
      "execution_count": 263,
      "outputs": []
    },
    {
      "cell_type": "code",
      "source": [
        "plot_prediction()"
      ],
      "metadata": {
        "colab": {
          "base_uri": "https://localhost:8080/",
          "height": 471
        },
        "id": "-h1vvuXU-ZAT",
        "outputId": "717d5646-eb5f-4fd1-bf4a-e2e77ae77584"
      },
      "execution_count": 264,
      "outputs": [
        {
          "output_type": "display_data",
          "data": {
            "text/plain": [
              "<Figure size 1000x700 with 1 Axes>"
            ],
            "image/png": "[encoded data removed]"
          },
          "metadata": {}
        }
      ]
    },
    {
      "cell_type": "markdown",
      "source": [
        "### building a model"
      ],
      "metadata": {
        "id": "dgsdxeul_8T6"
      }
    },
    {
      "cell_type": "code",
      "source": [
        "class LinearRegressionModel(nn.Module):\n",
        "  \"\"\"creating a LinearRegressionClass\"\"\"\n",
        "  def __init__(self):\n",
        "    super().__init__()\n",
        "    self.weights = nn.Parameter(torch.randn(1,\n",
        "                                            requires_grad=True,\n",
        "                                            dtype=torch.float))\n",
        "    self.bias = nn.Parameter(torch.randn(1,\n",
        "                                         requires_grad=True,\n",
        "                                         dtype=torch.float))\n",
        "  def forward(self, x: torch.Tensor) -> torch.Tensor :\n",
        "    return self.weights * x + self.bias"
      ],
      "metadata": {
        "id": "xuJ-99eH-cQb"
      },
      "execution_count": 265,
      "outputs": []
    },
    {
      "cell_type": "markdown",
      "source": [
        "### Pytorch model building essentials"
      ],
      "metadata": {
        "id": "Ih0pHK0I9FpD"
      }
    },
    {
      "cell_type": "code",
      "source": [
        "#create a random seed\n",
        "torch.manual_seed(42)\n",
        "\n",
        "#create a model\n",
        "model_0 = LinearRegressionModel()\n",
        "\n",
        "#check out the parameters\n",
        "list(model_0.parameters())"
      ],
      "metadata": {
        "colab": {
          "base_uri": "https://localhost:8080/"
        },
        "id": "ETJQOx7B9xUX",
        "outputId": "7360b758-b0b4-4b00-e5c8-e52a67233d4d"
      },
      "execution_count": 266,
      "outputs": [
        {
          "output_type": "execute_result",
          "data": {
            "text/plain": [
              "[Parameter containing:\n",
              " tensor([0.3367], requires_grad=True),\n",
              " Parameter containing:\n",
              " tensor([0.1288], requires_grad=True)]"
            ]
          },
          "metadata": {},
          "execution_count": 266
        }
      ]
    },
    {
      "cell_type": "code",
      "source": [
        "# List named parameters\n",
        "model_0.state_dict()"
      ],
      "metadata": {
        "colab": {
          "base_uri": "https://localhost:8080/"
        },
        "id": "jhA9QvwNH7Bv",
        "outputId": "97d28c13-295d-4b98-ce69-ec48c052cd44"
      },
      "execution_count": 267,
      "outputs": [
        {
          "output_type": "execute_result",
          "data": {
            "text/plain": [
              "OrderedDict([('weights', tensor([0.3367])), ('bias', tensor([0.1288]))])"
            ]
          },
          "metadata": {},
          "execution_count": 267
        }
      ]
    },
    {
      "cell_type": "code",
      "source": [
        " # Make predictions with model\n",
        "with torch.inference_mode():\n",
        "  y_preds = model_0(X_test)\n",
        "\n",
        "with torch.no_grad():\n",
        "  y_preds = model_0(X_test)"
      ],
      "metadata": {
        "id": "pgsrQqkrJC0P"
      },
      "execution_count": 268,
      "outputs": []
    },
    {
      "cell_type": "code",
      "source": [
        "y_preds"
      ],
      "metadata": {
        "colab": {
          "base_uri": "https://localhost:8080/"
        },
        "id": "m8I0pVxMKFs3",
        "outputId": "beb7c01b-925a-4d2c-a238-ef1dabfe3e2a"
      },
      "execution_count": 269,
      "outputs": [
        {
          "output_type": "execute_result",
          "data": {
            "text/plain": [
              "tensor([[0.3982],\n",
              "        [0.4049],\n",
              "        [0.4116],\n",
              "        [0.4184],\n",
              "        [0.4251],\n",
              "        [0.4318],\n",
              "        [0.4386],\n",
              "        [0.4453],\n",
              "        [0.4520],\n",
              "        [0.4588]])"
            ]
          },
          "metadata": {},
          "execution_count": 269
        }
      ]
    },
    {
      "cell_type": "code",
      "source": [
        "plot_prediction(predictions = y_preds)"
      ],
      "metadata": {
        "colab": {
          "base_uri": "https://localhost:8080/",
          "height": 471
        },
        "id": "yVLexz9PKd2N",
        "outputId": "37b67fd5-c7db-4145-a980-2369ac24fbd6"
      },
      "execution_count": 270,
      "outputs": [
        {
          "output_type": "display_data",
          "data": {
            "text/plain": [
              "<Figure size 1000x700 with 1 Axes>"
            ],
            "image/png": "[encoded data removed]"
          },
          "metadata": {}
        }
      ]
    },
    {
      "cell_type": "markdown",
      "source": [
        "### Train model"
      ],
      "metadata": {
        "id": "qb3ymeVMNclB"
      }
    },
    {
      "cell_type": "code",
      "source": [
        "list(model_0.parameters())"
      ],
      "metadata": {
        "colab": {
          "base_uri": "https://localhost:8080/"
        },
        "id": "MD3o5rzfLC_7",
        "outputId": "c638cbbc-5b9d-4b45-bb6e-d29adcde6923"
      },
      "execution_count": 271,
      "outputs": [
        {
          "output_type": "execute_result",
          "data": {
            "text/plain": [
              "[Parameter containing:\n",
              " tensor([0.3367], requires_grad=True),\n",
              " Parameter containing:\n",
              " tensor([0.1288], requires_grad=True)]"
            ]
          },
          "metadata": {},
          "execution_count": 271
        }
      ]
    },
    {
      "cell_type": "code",
      "source": [
        "model_0.state_dict()"
      ],
      "metadata": {
        "colab": {
          "base_uri": "https://localhost:8080/"
        },
        "id": "fn8UNVgjOvBo",
        "outputId": "6db26071-ab87-477e-909b-b31246b7b589"
      },
      "execution_count": 272,
      "outputs": [
        {
          "output_type": "execute_result",
          "data": {
            "text/plain": [
              "OrderedDict([('weights', tensor([0.3367])), ('bias', tensor([0.1288]))])"
            ]
          },
          "metadata": {},
          "execution_count": 272
        }
      ]
    },
    {
      "cell_type": "code",
      "source": [
        " # setup a loss function\n",
        "\n",
        "loss_fn = nn.L1Loss()\n",
        "\n",
        " # setup an optimizer\n",
        "optimizer = torch.optim.SGD(params = model_0.parameters(),\n",
        "                             lr = 0.01)"
      ],
      "metadata": {
        "id": "tbjfq4FYOzH5"
      },
      "execution_count": 273,
      "outputs": []
    },
    {
      "cell_type": "markdown",
      "source": [
        "### Building a training loop"
      ],
      "metadata": {
        "id": "mpP_KZ41MZ35"
      }
    },
    {
      "cell_type": "code",
      "source": [
        "torch.manual_seed(42)\n",
        "\n",
        "# an epoch is one loop through the data\n",
        "epochs = 200\n",
        "\n",
        "# Tracking values\n",
        "epoch_count = []\n",
        "loss_values = []\n",
        "test_loss_values = []\n",
        "\n",
        "# Training loop\n",
        "for epoch in range(epochs):\n",
        "  # setting the model to training mode\n",
        "  model_0.train()\n",
        "\n",
        "  # 1. Forward pass\n",
        "  y_pred = model_0(X_train)\n",
        "\n",
        "  # 2. Calculate the loss\n",
        "  loss = loss_fn(y_pred, y_train)\n",
        "  # print(f\"Epoch: {epoch} | Loss: {loss}\")\n",
        "\n",
        "  # 3. Optimizer zero grad\n",
        "  optimizer.zero_grad()\n",
        "\n",
        "  # 4. Loss backward\n",
        "  loss.backward()\n",
        "\n",
        "  # 5. Optimizer step\n",
        "  optimizer.step()\n",
        "\n",
        "  # Testing\n",
        "  model_0.eval()\n",
        "  with torch.inference_mode():\n",
        "    test_pred = model_0(X_test)\n",
        "    test_loss = loss_fn(test_pred, y_test)\n",
        "\n",
        "  if epoch % 10 == 0:\n",
        "    epoch_count.append(epoch)\n",
        "    loss_values.append(loss.detach().numpy())\n",
        "    test_loss_values.append(test_loss.detach().numpy())\n",
        "    print(f\"Test loss: {test_loss}\")\n",
        "    print(model_0.state_dict())"
      ],
      "metadata": {
        "id": "8ore-FA0R92N",
        "colab": {
          "base_uri": "https://localhost:8080/"
        },
        "outputId": "0a0d5808-c9ed-48fc-ca20-fe94cd56d90d"
      },
      "execution_count": 274,
      "outputs": [
        {
          "output_type": "stream",
          "name": "stdout",
          "text": [
            "Test loss: 0.48106518387794495\n",
            "OrderedDict([('weights', tensor([0.3406])), ('bias', tensor([0.1388]))])\n",
            "Test loss: 0.3463551998138428\n",
            "OrderedDict([('weights', tensor([0.3796])), ('bias', tensor([0.2388]))])\n",
            "Test loss: 0.21729660034179688\n",
            "OrderedDict([('weights', tensor([0.4184])), ('bias', tensor([0.3333]))])\n",
            "Test loss: 0.14464017748832703\n",
            "OrderedDict([('weights', tensor([0.4512])), ('bias', tensor([0.3768]))])\n",
            "Test loss: 0.11360953003168106\n",
            "OrderedDict([('weights', tensor([0.4748])), ('bias', tensor([0.3868]))])\n",
            "Test loss: 0.09919948130846024\n",
            "OrderedDict([('weights', tensor([0.4938])), ('bias', tensor([0.3843]))])\n",
            "Test loss: 0.08886633068323135\n",
            "OrderedDict([('weights', tensor([0.5116])), ('bias', tensor([0.3788]))])\n",
            "Test loss: 0.0805937647819519\n",
            "OrderedDict([('weights', tensor([0.5288])), ('bias', tensor([0.3718]))])\n",
            "Test loss: 0.07232122868299484\n",
            "OrderedDict([('weights', tensor([0.5459])), ('bias', tensor([0.3648]))])\n",
            "Test loss: 0.06473556160926819\n",
            "OrderedDict([('weights', tensor([0.5629])), ('bias', tensor([0.3573]))])\n",
            "Test loss: 0.05646304413676262\n",
            "OrderedDict([('weights', tensor([0.5800])), ('bias', tensor([0.3503]))])\n",
            "Test loss: 0.04819049686193466\n",
            "OrderedDict([('weights', tensor([0.5972])), ('bias', tensor([0.3433]))])\n",
            "Test loss: 0.04060482233762741\n",
            "OrderedDict([('weights', tensor([0.6141])), ('bias', tensor([0.3358]))])\n",
            "Test loss: 0.03233227878808975\n",
            "OrderedDict([('weights', tensor([0.6313])), ('bias', tensor([0.3288]))])\n",
            "Test loss: 0.024059748277068138\n",
            "OrderedDict([('weights', tensor([0.6485])), ('bias', tensor([0.3218]))])\n",
            "Test loss: 0.016474086791276932\n",
            "OrderedDict([('weights', tensor([0.6654])), ('bias', tensor([0.3143]))])\n",
            "Test loss: 0.008201557211577892\n",
            "OrderedDict([('weights', tensor([0.6826])), ('bias', tensor([0.3073]))])\n",
            "Test loss: 0.005023092031478882\n",
            "OrderedDict([('weights', tensor([0.6951])), ('bias', tensor([0.2993]))])\n",
            "Test loss: 0.005023092031478882\n",
            "OrderedDict([('weights', tensor([0.6951])), ('bias', tensor([0.2993]))])\n",
            "Test loss: 0.005023092031478882\n",
            "OrderedDict([('weights', tensor([0.6951])), ('bias', tensor([0.2993]))])\n"
          ]
        }
      ]
    },
    {
      "cell_type": "code",
      "source": [
        "plt.plot(epoch_count,test_loss_values, label =\"test loss\")\n",
        "plt.plot(epoch_count,loss_values, label =\"train loss\")\n",
        "plt.title(\"Training and test loss curves\")\n",
        "plt.ylabel(\"Loss\")\n",
        "plt.xlabel(\"Epochs\")\n",
        "plt.legend()"
      ],
      "metadata": {
        "id": "JqjNrcqZluz2",
        "outputId": "f2e6f8f8-ed25-46af-8516-a4977efdc8b0",
        "colab": {
          "base_uri": "https://localhost:8080/",
          "height": 489
        }
      },
      "execution_count": 275,
      "outputs": [
        {
          "output_type": "execute_result",
          "data": {
            "text/plain": [
              "<matplotlib.legend.Legend at 0x7f3b8e0a10f0>"
            ]
          },
          "metadata": {},
          "execution_count": 275
        },
        {
          "output_type": "display_data",
          "data": {
            "text/plain": [
              "<Figure size 640x480 with 1 Axes>"
            ],
            "image/png": "[encoded data removed]"
          },
          "metadata": {}
        }
      ]
    },
    {
      "cell_type": "code",
      "source": [
        "with torch.inference_mode():\n",
        "  y_preds = model_0(X_test)"
      ],
      "metadata": {
        "id": "8YqKvl3Yf_oB"
      },
      "execution_count": 276,
      "outputs": []
    },
    {
      "cell_type": "code",
      "source": [
        "plot_prediction(predictions = y_preds)"
      ],
      "metadata": {
        "colab": {
          "base_uri": "https://localhost:8080/",
          "height": 471
        },
        "id": "3JWHjNvlgI5y",
        "outputId": "52e8b81a-6430-43f9-92a0-d15f948fa57d"
      },
      "execution_count": 277,
      "outputs": [
        {
          "output_type": "display_data",
          "data": {
            "text/plain": [
              "<Figure size 1000x700 with 1 Axes>"
            ],
            "image/png": "[encoded data removed]"
          },
          "metadata": {}
        }
      ]
    },
    {
      "cell_type": "markdown",
      "source": [
        "## Saving a model in Pytorch"
      ],
      "metadata": {
        "id": "tojFTBrXpSN_"
      }
    },
    {
      "cell_type": "code",
      "source": [
        "#Saving the model in Pytorch\n",
        "from pathlib import Path\n",
        "\n",
        "# Create models directory\n",
        "MODEL_PATH = Path(\"models\")\n",
        "MODEL_PATH.mkdir(parents=True, exist_ok=True)\n",
        "\n",
        "# Create model save path\n",
        "MODEL_NAME = \"1_pytorch_workflow_model_0.pth\"\n",
        "MODEL_SAVE_PATH = MODEL_PATH / MODEL_NAME\n",
        "\n",
        "# Save the model state dict\n",
        "print(f\"Saving model to: {MODEL_SAVE_PATH}\")\n",
        "torch.save(obj=model_0.state_dict(), f=MODEL_SAVE_PATH)"
      ],
      "metadata": {
        "colab": {
          "base_uri": "https://localhost:8080/"
        },
        "id": "ZJjkQy7Ye4lv",
        "outputId": "34ff28b9-a164-46f4-a603-f42dd25f5f70"
      },
      "execution_count": 278,
      "outputs": [
        {
          "output_type": "stream",
          "name": "stdout",
          "text": [
            "Saving model to: models/1_pytorch_workflow_model_0.pth\n"
          ]
        }
      ]
    },
    {
      "cell_type": "markdown",
      "source": [
        "###Loading a Model"
      ],
      "metadata": {
        "id": "WYKLaojVwvD1"
      }
    },
    {
      "cell_type": "code",
      "source": [
        "import torch\n",
        "\n",
        "# Define the model architecture\n",
        "loaded_model_0 = LinearRegressionModel()\n",
        "\n",
        "# Load the saved state dict\n",
        "try:\n",
        "    loaded_model_0.load_state_dict(torch.load(MODEL_SAVE_PATH))\n",
        "    loaded_model_0.eval()\n",
        "    print(\"Model loaded successfully.\")\n",
        "except Exception as e:\n",
        "    print(f\"Error loading the model: {e}\")\n"
      ],
      "metadata": {
        "id": "9cFIPcEcvz8T",
        "outputId": "ff5ddb91-c9b2-4ef4-e901-b8a6f0db241f",
        "colab": {
          "base_uri": "https://localhost:8080/"
        }
      },
      "execution_count": 279,
      "outputs": [
        {
          "output_type": "stream",
          "name": "stdout",
          "text": [
            "Model loaded successfully.\n"
          ]
        }
      ]
    },
    {
      "cell_type": "code",
      "source": [
        "#make prediction from our loaded model\n",
        "with torch.inference_mode():\n",
        "  loaded_model_preds = loaded_model_0(X_test)\n",
        "\n",
        "loaded_model_preds"
      ],
      "metadata": {
        "id": "o4orCL-dxUHC",
        "outputId": "28bfc442-c2cb-4d3b-c0e4-11f11881b56f",
        "colab": {
          "base_uri": "https://localhost:8080/"
        }
      },
      "execution_count": 280,
      "outputs": [
        {
          "output_type": "execute_result",
          "data": {
            "text/plain": [
              "tensor([[0.8685],\n",
              "        [0.8825],\n",
              "        [0.8965],\n",
              "        [0.9105],\n",
              "        [0.9245],\n",
              "        [0.9384],\n",
              "        [0.9524],\n",
              "        [0.9664],\n",
              "        [0.9804],\n",
              "        [0.9944]])"
            ]
          },
          "metadata": {},
          "execution_count": 280
        }
      ]
    },
    {
      "cell_type": "code",
      "source": [
        "y_preds == loaded_model_preds"
      ],
      "metadata": {
        "id": "pNkJpv16zH6E",
        "outputId": "ca445935-572e-4390-a087-be7eae0add09",
        "colab": {
          "base_uri": "https://localhost:8080/"
        }
      },
      "execution_count": 281,
      "outputs": [
        {
          "output_type": "execute_result",
          "data": {
            "text/plain": [
              "tensor([[True],\n",
              "        [True],\n",
              "        [True],\n",
              "        [True],\n",
              "        [True],\n",
              "        [True],\n",
              "        [True],\n",
              "        [True],\n",
              "        [True],\n",
              "        [True]])"
            ]
          },
          "metadata": {},
          "execution_count": 281
        }
      ]
    },
    {
      "cell_type": "markdown",
      "source": [
        "### Putting it all together\n"
      ],
      "metadata": {
        "id": "utMRPX6Iz0hx"
      }
    },
    {
      "cell_type": "code",
      "source": [
        "import torch\n",
        "import matplotlib.pyplot as plt\n",
        "from pathlib import Path"
      ],
      "metadata": {
        "id": "OfG4pxqJzJ0W"
      },
      "execution_count": 282,
      "outputs": []
    },
    {
      "cell_type": "markdown",
      "source": [
        "####Data"
      ],
      "metadata": {
        "id": "RLMID-I80Tta"
      }
    },
    {
      "cell_type": "code",
      "source": [
        "weight = 0.7\n",
        "bias = 0.3\n",
        "\n",
        "start = 0\n",
        "end = 1\n",
        "step = 0.02\n",
        "X = torch.arange(start, end, step).unsqueeze(dim=1)\n",
        "y = weight * X + bias"
      ],
      "metadata": {
        "id": "rA-VRFiM0O1B"
      },
      "execution_count": 283,
      "outputs": []
    },
    {
      "cell_type": "markdown",
      "source": [
        "#### splitting the data"
      ],
      "metadata": {
        "id": "7NXYYmdh0ha1"
      }
    },
    {
      "cell_type": "code",
      "source": [
        "train_split = int(0.8 * len(X))\n",
        "X_train, y_train = X[:train_split], y[:train_split]\n",
        "X_test, y_test = X[train_split:], y[train_split:]"
      ],
      "metadata": {
        "id": "vyzeehWk0gMg"
      },
      "execution_count": 284,
      "outputs": []
    },
    {
      "cell_type": "markdown",
      "source": [
        "#### Building the model\n"
      ],
      "metadata": {
        "id": "INW-S1VH0xK_"
      }
    },
    {
      "cell_type": "code",
      "source": [
        "class LinearRegressionModelV2(nn.Module):\n",
        "  \"\"\"creating a LinearRegressionClass\"\"\"\n",
        "  def __init__(self):\n",
        "    super().__init__()\n",
        "    self.linear_layer = nn.Linear(in_features=1,\n",
        "                                  out_features=1)\n",
        "  def forward(self, x: torch.Tensor) -> torch.Tensor :\n",
        "    return self.linear_layer(x)"
      ],
      "metadata": {
        "id": "ZtenuPt90ppf"
      },
      "execution_count": 285,
      "outputs": []
    },
    {
      "cell_type": "markdown",
      "source": [
        "#### Prepare to train"
      ],
      "metadata": {
        "id": "4bx79cfC07lx"
      }
    },
    {
      "cell_type": "code",
      "source": [
        "#create a random seed\n",
        "torch.manual_seed(42)\n",
        "\n",
        "model_1 = LinearRegressionModelV2()\n",
        "loss_fn = nn.L1Loss()\n",
        "optimizer = torch.optim.SGD(params = model_1.parameters(),\n",
        "                             lr = 0.01)"
      ],
      "metadata": {
        "id": "8wtnBtL300Vh"
      },
      "execution_count": 286,
      "outputs": []
    },
    {
      "cell_type": "markdown",
      "source": [
        "####Building a training loop\n"
      ],
      "metadata": {
        "id": "qT1BEUmX1dEm"
      }
    },
    {
      "cell_type": "code",
      "source": [
        "torch.manual_seed(42)\n",
        "\n",
        "#setting up the epochs\n",
        "epochs = 200\n",
        "\n",
        "# Tracking values\n",
        "epoch_count = []\n",
        "loss_values = []\n",
        "test_loss_values = []\n",
        "\n",
        "#training the loop\n",
        "for epoch in range(epochs):\n",
        "  # setting the model to training mode\n",
        "  model_1.train()\n",
        "  # 1. Forward pass\n",
        "  y_pred = model_1(X_train)\n",
        "  # 2. Calculate the loss\n",
        "  loss = loss_fn(y_pred, y_train)\n",
        "  # print(f\"Epoch: {epoch} | Loss: {loss}\")\n",
        "  # 3. Optimizer zero grad\n",
        "  optimizer.zero_grad()\n",
        "  # 4. Loss backward\n",
        "  loss.backward()\n",
        "  # 5. Optimizer step\n",
        "  optimizer.step()\n",
        "  # Testing\n",
        "  model_1.eval()\n",
        "  with torch.inference_mode():\n",
        "    test_pred = model_1(X_test)\n",
        "    test_loss = loss_fn(test_pred, y_test)\n",
        "\n",
        "  if epoch % 10 == 0:\n",
        "    epoch_count.append(epoch)\n",
        "    loss_values.append(loss.detach().numpy())\n",
        "    test_loss_values.append(test_loss.detach().numpy())\n",
        "    print(f\"Test loss: {test_loss}\")\n",
        "    print(model_1.state_dict())\n",
        "    print(f\"Model parameters: {list(model_1.parameters())}\")\n",
        "\n",
        ""
      ],
      "metadata": {
        "id": "saHGn_sH1Rf8",
        "outputId": "43e20d69-94db-4111-e9e1-8c599f09b292",
        "colab": {
          "base_uri": "https://localhost:8080/"
        }
      },
      "execution_count": 287,
      "outputs": [
        {
          "output_type": "stream",
          "name": "stdout",
          "text": [
            "Test loss: 0.5739762187004089\n",
            "OrderedDict([('linear_layer.weight', tensor([[0.7606]])), ('linear_layer.bias', tensor([0.8200]))])\n",
            "Model parameters: [Parameter containing:\n",
            "tensor([[0.7606]], requires_grad=True), Parameter containing:\n",
            "tensor([0.8200], requires_grad=True)]\n",
            "Test loss: 0.4392663538455963\n",
            "OrderedDict([('linear_layer.weight', tensor([[0.7216]])), ('linear_layer.bias', tensor([0.7200]))])\n",
            "Model parameters: [Parameter containing:\n",
            "tensor([[0.7216]], requires_grad=True), Parameter containing:\n",
            "tensor([0.7200], requires_grad=True)]\n",
            "Test loss: 0.30455657839775085\n",
            "OrderedDict([('linear_layer.weight', tensor([[0.6826]])), ('linear_layer.bias', tensor([0.6200]))])\n",
            "Model parameters: [Parameter containing:\n",
            "tensor([[0.6826]], requires_grad=True), Parameter containing:\n",
            "tensor([0.6200], requires_grad=True)]\n",
            "Test loss: 0.16984674334526062\n",
            "OrderedDict([('linear_layer.weight', tensor([[0.6436]])), ('linear_layer.bias', tensor([0.5200]))])\n",
            "Model parameters: [Parameter containing:\n",
            "tensor([[0.6436]], requires_grad=True), Parameter containing:\n",
            "tensor([0.5200], requires_grad=True)]\n",
            "Test loss: 0.03513689711689949\n",
            "OrderedDict([('linear_layer.weight', tensor([[0.6046]])), ('linear_layer.bias', tensor([0.4200]))])\n",
            "Model parameters: [Parameter containing:\n",
            "tensor([[0.6046]], requires_grad=True), Parameter containing:\n",
            "tensor([0.4200], requires_grad=True)]\n",
            "Test loss: 0.04784906655550003\n",
            "OrderedDict([('linear_layer.weight', tensor([[0.5872]])), ('linear_layer.bias', tensor([0.3525]))])\n",
            "Model parameters: [Parameter containing:\n",
            "tensor([[0.5872]], requires_grad=True), Parameter containing:\n",
            "tensor([0.3525], requires_grad=True)]\n",
            "Test loss: 0.04580312222242355\n",
            "OrderedDict([('linear_layer.weight', tensor([[0.6025]])), ('linear_layer.bias', tensor([0.3410]))])\n",
            "Model parameters: [Parameter containing:\n",
            "tensor([[0.6025]], requires_grad=True), Parameter containing:\n",
            "tensor([0.3410], requires_grad=True)]\n",
            "Test loss: 0.0375305712223053\n",
            "OrderedDict([('linear_layer.weight', tensor([[0.6196]])), ('linear_layer.bias', tensor([0.3340]))])\n",
            "Model parameters: [Parameter containing:\n",
            "tensor([[0.6196]], requires_grad=True), Parameter containing:\n",
            "tensor([0.3340], requires_grad=True)]\n",
            "Test loss: 0.029944902285933495\n",
            "OrderedDict([('linear_layer.weight', tensor([[0.6366]])), ('linear_layer.bias', tensor([0.3265]))])\n",
            "Model parameters: [Parameter containing:\n",
            "tensor([[0.6366]], requires_grad=True), Parameter containing:\n",
            "tensor([0.3265], requires_grad=True)]\n",
            "Test loss: 0.02167237363755703\n",
            "OrderedDict([('linear_layer.weight', tensor([[0.6537]])), ('linear_layer.bias', tensor([0.3195]))])\n",
            "Model parameters: [Parameter containing:\n",
            "tensor([[0.6537]], requires_grad=True), Parameter containing:\n",
            "tensor([0.3195], requires_grad=True)]\n",
            "Test loss: 0.014086711220443249\n",
            "OrderedDict([('linear_layer.weight', tensor([[0.6707]])), ('linear_layer.bias', tensor([0.3120]))])\n",
            "Model parameters: [Parameter containing:\n",
            "tensor([[0.6707]], requires_grad=True), Parameter containing:\n",
            "tensor([0.3120], requires_grad=True)]\n",
            "Test loss: 0.005814164876937866\n",
            "OrderedDict([('linear_layer.weight', tensor([[0.6878]])), ('linear_layer.bias', tensor([0.3050]))])\n",
            "Model parameters: [Parameter containing:\n",
            "tensor([[0.6878]], requires_grad=True), Parameter containing:\n",
            "tensor([0.3050], requires_grad=True)]\n",
            "Test loss: 0.013801807537674904\n",
            "OrderedDict([('linear_layer.weight', tensor([[0.6929]])), ('linear_layer.bias', tensor([0.2925]))])\n",
            "Model parameters: [Parameter containing:\n",
            "tensor([[0.6929]], requires_grad=True), Parameter containing:\n",
            "tensor([0.2925], requires_grad=True)]\n",
            "Test loss: 0.013801807537674904\n",
            "OrderedDict([('linear_layer.weight', tensor([[0.6929]])), ('linear_layer.bias', tensor([0.2925]))])\n",
            "Model parameters: [Parameter containing:\n",
            "tensor([[0.6929]], requires_grad=True), Parameter containing:\n",
            "tensor([0.2925], requires_grad=True)]\n",
            "Test loss: 0.013801807537674904\n",
            "OrderedDict([('linear_layer.weight', tensor([[0.6929]])), ('linear_layer.bias', tensor([0.2925]))])\n",
            "Model parameters: [Parameter containing:\n",
            "tensor([[0.6929]], requires_grad=True), Parameter containing:\n",
            "tensor([0.2925], requires_grad=True)]\n",
            "Test loss: 0.013801807537674904\n",
            "OrderedDict([('linear_layer.weight', tensor([[0.6929]])), ('linear_layer.bias', tensor([0.2925]))])\n",
            "Model parameters: [Parameter containing:\n",
            "tensor([[0.6929]], requires_grad=True), Parameter containing:\n",
            "tensor([0.2925], requires_grad=True)]\n",
            "Test loss: 0.013801807537674904\n",
            "OrderedDict([('linear_layer.weight', tensor([[0.6929]])), ('linear_layer.bias', tensor([0.2925]))])\n",
            "Model parameters: [Parameter containing:\n",
            "tensor([[0.6929]], requires_grad=True), Parameter containing:\n",
            "tensor([0.2925], requires_grad=True)]\n",
            "Test loss: 0.013801807537674904\n",
            "OrderedDict([('linear_layer.weight', tensor([[0.6929]])), ('linear_layer.bias', tensor([0.2925]))])\n",
            "Model parameters: [Parameter containing:\n",
            "tensor([[0.6929]], requires_grad=True), Parameter containing:\n",
            "tensor([0.2925], requires_grad=True)]\n",
            "Test loss: 0.013801807537674904\n",
            "OrderedDict([('linear_layer.weight', tensor([[0.6929]])), ('linear_layer.bias', tensor([0.2925]))])\n",
            "Model parameters: [Parameter containing:\n",
            "tensor([[0.6929]], requires_grad=True), Parameter containing:\n",
            "tensor([0.2925], requires_grad=True)]\n",
            "Test loss: 0.013801807537674904\n",
            "OrderedDict([('linear_layer.weight', tensor([[0.6929]])), ('linear_layer.bias', tensor([0.2925]))])\n",
            "Model parameters: [Parameter containing:\n",
            "tensor([[0.6929]], requires_grad=True), Parameter containing:\n",
            "tensor([0.2925], requires_grad=True)]\n"
          ]
        }
      ]
    },
    {
      "cell_type": "markdown",
      "source": [
        "#### Saving the model"
      ],
      "metadata": {
        "id": "tcLXdo1B2J-U"
      }
    },
    {
      "cell_type": "code",
      "source": [
        "# Create models directory\n",
        "MODEL_PATH = Path(\"models\")\n",
        "MODEL_PATH.mkdir(parents=True, exist_ok=True)\n",
        "\n",
        "# Create model save path\n",
        "MODEL_NAME = \"1_pytorch_workflow_model_1.pth\"\n",
        "MODEL_SAVE_PATH = MODEL_PATH / MODEL_NAME\n",
        "\n",
        "# Save the model state dict\n",
        "print(f\"Saving model to: {MODEL_SAVE_PATH}\")\n",
        "torch.save(obj=model_0.state_dict(), f=MODEL_SAVE_PATH)"
      ],
      "metadata": {
        "id": "d8gUSGCi2Hn_",
        "outputId": "1f06a0c8-868c-4e97-9780-94795d21a7bb",
        "colab": {
          "base_uri": "https://localhost:8080/"
        }
      },
      "execution_count": 288,
      "outputs": [
        {
          "output_type": "stream",
          "name": "stdout",
          "text": [
            "Saving model to: models/1_pytorch_workflow_model_1.pth\n"
          ]
        }
      ]
    },
    {
      "cell_type": "code",
      "source": [
        "loaded_model_0 = LinearRegressionModel()\n",
        "\n",
        "# Load the saved state dict\n",
        "try:\n",
        "    loaded_model_0.load_state_dict(torch.load(MODEL_SAVE_PATH))\n",
        "    loaded_model_0.eval()\n",
        "    print(\"Model loaded successfully.\")\n",
        "except Exception as e:\n",
        "    print(f\"Error loading the model: {e}\")"
      ],
      "metadata": {
        "id": "7phSfjrt2Yfn",
        "outputId": "95ed6457-a317-4475-a6a9-217d52367869",
        "colab": {
          "base_uri": "https://localhost:8080/"
        }
      },
      "execution_count": 289,
      "outputs": [
        {
          "output_type": "stream",
          "name": "stdout",
          "text": [
            "Model loaded successfully.\n"
          ]
        }
      ]
    },
    {
      "cell_type": "code",
      "source": [
        "with torch.inference_mode():\n",
        "  loaded_model_preds = loaded_model_0(X_test)\n",
        "\n",
        "loaded_model_preds"
      ],
      "metadata": {
        "id": "nF2c4pPB2j5j",
        "outputId": "c1f77c83-eb95-4076-dabd-080ae029cba7",
        "colab": {
          "base_uri": "https://localhost:8080/"
        }
      },
      "execution_count": 290,
      "outputs": [
        {
          "output_type": "execute_result",
          "data": {
            "text/plain": [
              "tensor([[0.8685],\n",
              "        [0.8825],\n",
              "        [0.8965],\n",
              "        [0.9105],\n",
              "        [0.9245],\n",
              "        [0.9384],\n",
              "        [0.9524],\n",
              "        [0.9664],\n",
              "        [0.9804],\n",
              "        [0.9944]])"
            ]
          },
          "metadata": {},
          "execution_count": 290
        }
      ]
    },
    {
      "cell_type": "code",
      "source": [],
      "metadata": {
        "id": "GrNvTWUK2rko"
      },
      "execution_count": 290,
      "outputs": []
    }
  ]
}
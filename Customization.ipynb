{
  "nbformat": 4,
  "nbformat_minor": 0,
  "metadata": {
    "colab": {
      "provenance": [],
      "gpuType": "T4",
      "authorship_tag": "ABX9TyM8dVsm+sxscCS4skYjjF80",
      "include_colab_link": true
    },
    "kernelspec": {
      "name": "python3",
      "display_name": "Python 3"
    },
    "language_info": {
      "name": "python"
    },
    "accelerator": "GPU"
  },
  "cells": [
    {
      "cell_type": "markdown",
      "metadata": {
        "id": "view-in-github",
        "colab_type": "text"
      },
      "source": [
        "<a href=\"https://colab.research.google.com/github/worldofaryavart/colab_notebooks/blob/colabnotebook/Customization.ipynb\" target=\"_parent\"><img src=\"https://colab.research.google.com/assets/colab-badge.svg\" alt=\"Open In Colab\"/></a>"
      ]
    },
    {
      "cell_type": "code",
      "execution_count": null,
      "metadata": {
        "id": "6Kk0whJMsV4O"
      },
      "outputs": [],
      "source": [
        "import tensorflow as tf"
      ]
    },
    {
      "cell_type": "code",
      "source": [
        "print(tf.math.add(1,2))\n",
        "print(tf.math.add([1,2],[3,4]))\n",
        "print(tf.math.square(5))\n",
        "print(tf.math.reduce_sum([1,2,3]))"
      ],
      "metadata": {
        "colab": {
          "base_uri": "https://localhost:8080/"
        },
        "id": "LG2aWHqMsgho",
        "outputId": "67890342-da30-41f3-ccc3-45732e1178f8"
      },
      "execution_count": null,
      "outputs": [
        {
          "output_type": "stream",
          "name": "stdout",
          "text": [
            "tf.Tensor(3, shape=(), dtype=int32)\n",
            "tf.Tensor([4 6], shape=(2,), dtype=int32)\n",
            "tf.Tensor(25, shape=(), dtype=int32)\n",
            "tf.Tensor(6, shape=(), dtype=int32)\n"
          ]
        }
      ]
    },
    {
      "cell_type": "code",
      "source": [
        "print(tf.math.square(3) + tf.math.square(3))"
      ],
      "metadata": {
        "colab": {
          "base_uri": "https://localhost:8080/"
        },
        "id": "1J9rD5a8srKp",
        "outputId": "6b25b5db-92ff-4a10-98c5-9439c9ba1d56"
      },
      "execution_count": null,
      "outputs": [
        {
          "output_type": "stream",
          "name": "stdout",
          "text": [
            "tf.Tensor(18, shape=(), dtype=int32)\n"
          ]
        }
      ]
    },
    {
      "cell_type": "code",
      "source": [
        "x = tf.linalg.matmul([[1]],[[2,3]])\n",
        "print(x)"
      ],
      "metadata": {
        "colab": {
          "base_uri": "https://localhost:8080/"
        },
        "id": "F-3QRaOKtHin",
        "outputId": "0589bf43-0de1-46a3-81d6-ce3b3bde7e03"
      },
      "execution_count": null,
      "outputs": [
        {
          "output_type": "stream",
          "name": "stdout",
          "text": [
            "tf.Tensor([[2 3]], shape=(1, 2), dtype=int32)\n"
          ]
        }
      ]
    },
    {
      "cell_type": "code",
      "source": [
        "print(x.shape)"
      ],
      "metadata": {
        "colab": {
          "base_uri": "https://localhost:8080/"
        },
        "id": "HcduGNZatfQV",
        "outputId": "2868cd86-1c27-4756-f77e-34056515aa90"
      },
      "execution_count": null,
      "outputs": [
        {
          "output_type": "stream",
          "name": "stdout",
          "text": [
            "(1, 2)\n"
          ]
        }
      ]
    },
    {
      "cell_type": "code",
      "source": [
        "import numpy as np\n",
        "ndarray = np.ones([3,3])\n",
        "\n",
        "print(\"TensorFlow operations convert numpy arrays to Tensors automatically\")\n",
        "tensor = tf.math.multiply(ndarray, 42)\n",
        "print(tensor)\n",
        "\n",
        "print(np.add(tensor,1))\n",
        "print(\" \")\n",
        "print(tensor.numpy())"
      ],
      "metadata": {
        "colab": {
          "base_uri": "https://localhost:8080/"
        },
        "id": "mdBIHPpU6SfA",
        "outputId": "7b95efef-3663-4885-e921-14344a4b077d"
      },
      "execution_count": null,
      "outputs": [
        {
          "output_type": "stream",
          "name": "stdout",
          "text": [
            "TensorFlow operations convert numpy arrays to Tensors automatically\n",
            "tf.Tensor(\n",
            "[[42. 42. 42.]\n",
            " [42. 42. 42.]\n",
            " [42. 42. 42.]], shape=(3, 3), dtype=float64)\n",
            "[[43. 43. 43.]\n",
            " [43. 43. 43.]\n",
            " [43. 43. 43.]]\n",
            " \n",
            "[[42. 42. 42.]\n",
            " [42. 42. 42.]\n",
            " [42. 42. 42.]]\n"
          ]
        }
      ]
    },
    {
      "cell_type": "code",
      "source": [
        "x = tf.random.uniform([3,3])\n",
        "\n",
        "print(\"Is there a GPU available: \")\n",
        "print(tf.config.list_physical_devices(\"GPU\"))\n",
        "print(\"IS the Tnsor on GPU #0: \"),\n",
        "print(x.device.endswith('GPU:0'))"
      ],
      "metadata": {
        "colab": {
          "base_uri": "https://localhost:8080/"
        },
        "id": "wYqeMDv963iL",
        "outputId": "eaf85afc-8ae3-4c8c-d553-8c4e7ca0d3a7"
      },
      "execution_count": null,
      "outputs": [
        {
          "output_type": "stream",
          "name": "stdout",
          "text": [
            "Is there a GPU available: \n",
            "[PhysicalDevice(name='/physical_device:GPU:0', device_type='GPU')]\n",
            "IS the Tnsor on GPU #0: \n",
            "True\n"
          ]
        }
      ]
    },
    {
      "cell_type": "code",
      "source": [
        "import time\n",
        "\n",
        "def time_matmul(x):\n",
        "  start = time.time()\n",
        "  for loop in range(10):\n",
        "    tf.linalg.matmul(x, x)\n",
        "\n",
        "  result = time.time()-start\n",
        "\n",
        "  print(\"10 loops: {:0.2f}ms\".format(1000*result))\n",
        "\n",
        "# Force execution on CPU\n",
        "print(\"On CPU:\")\n",
        "with tf.device(\"CPU:0\"):\n",
        "  x = tf.random.uniform([1000, 1000])\n",
        "  assert x.device.endswith(\"CPU:0\")\n",
        "  time_matmul(x)\n",
        "\n",
        "# Force execution on GPU #0 if available\n",
        "if tf.config.list_physical_devices(\"GPU\"):\n",
        "  print(\"On GPU:\")\n",
        "  with tf.device(\"GPU:0\"): # Or GPU:1 for the 2nd GPU, GPU:2 for the 3rd etc.\n",
        "    x = tf.random.uniform([1000, 1000])\n",
        "    assert x.device.endswith(\"GPU:0\")\n",
        "    time_matmul(x)"
      ],
      "metadata": {
        "colab": {
          "base_uri": "https://localhost:8080/"
        },
        "id": "mFGT4cIO7k8c",
        "outputId": "fd9eae9e-7429-4049-e884-99badbefd0a1"
      },
      "execution_count": null,
      "outputs": [
        {
          "output_type": "stream",
          "name": "stdout",
          "text": [
            "On CPU:\n",
            "10 loops: 270.10ms\n",
            "On GPU:\n",
            "10 loops: 0.94ms\n"
          ]
        }
      ]
    },
    {
      "cell_type": "code",
      "source": [
        "ds_tensors = tf.data.Dataset.from_tensor_slices([1,2,3,4,5,6])\n",
        "\n",
        "import tempfile\n",
        "_, filename = tempfile.mkstemp()\n",
        "\n",
        "with open(filename, 'w') as f:\n",
        "  f.write(\"\"\" Line 1\n",
        "Line 2\n",
        "Line 3\n",
        "\"\"\")\n",
        "\n",
        "ds_file = tf.data.TextLineDataset(filename)\n",
        "ds_file"
      ],
      "metadata": {
        "colab": {
          "base_uri": "https://localhost:8080/"
        },
        "id": "LXzVq-F69TTO",
        "outputId": "d0a5254b-273d-4391-c022-2d712251825f"
      },
      "execution_count": null,
      "outputs": [
        {
          "output_type": "execute_result",
          "data": {
            "text/plain": [
              "<TextLineDatasetV2 element_spec=TensorSpec(shape=(), dtype=tf.string, name=None)>"
            ]
          },
          "metadata": {},
          "execution_count": 18
        }
      ]
    },
    {
      "cell_type": "code",
      "source": [
        "ds_tensors = ds_tensors.map(tf.math.square).shuffle(2).batch(2)\n",
        "ds_file =ds_file.batch(2\n",
        "                       )"
      ],
      "metadata": {
        "id": "CfwA7B4p-a21"
      },
      "execution_count": null,
      "outputs": []
    },
    {
      "cell_type": "code",
      "source": [
        "print(\"Elements of ds_tensors:\")\n",
        "for x in ds_tensors:\n",
        "  print(x)\n",
        "\n",
        "print('\\nElements in ds_file')\n",
        "for x in ds_file:\n",
        "  print(x)"
      ],
      "metadata": {
        "colab": {
          "base_uri": "https://localhost:8080/"
        },
        "id": "aA1PUggABTtE",
        "outputId": "f4f53220-6055-4a74-eaf8-40bddc8a539c"
      },
      "execution_count": null,
      "outputs": [
        {
          "output_type": "stream",
          "name": "stdout",
          "text": [
            "Elements of ds_tensors:\n",
            "tf.Tensor(\n",
            "[[  16   81]\n",
            " [ 625 1296]], shape=(2, 2), dtype=int32)\n",
            "tf.Tensor([[256   1]], shape=(1, 2), dtype=int32)\n",
            "\n",
            "Elements in ds_file\n",
            "tf.Tensor([b' Line 1' b'Line 2'], shape=(2,), dtype=string)\n",
            "tf.Tensor([b'Line 3'], shape=(1,), dtype=string)\n"
          ]
        }
      ]
    },
    {
      "cell_type": "code",
      "source": [],
      "metadata": {
        "id": "Tu9Nn2TfDiE7"
      },
      "execution_count": null,
      "outputs": []
    },
    {
      "cell_type": "markdown",
      "source": [
        "# Custom Layers\n"
      ],
      "metadata": {
        "id": "wTOxT7QnDsHP"
      }
    },
    {
      "cell_type": "code",
      "source": [
        "import tensorflow as tf\n"
      ],
      "metadata": {
        "id": "1LZoz_xRDzJO"
      },
      "execution_count": null,
      "outputs": []
    },
    {
      "cell_type": "code",
      "source": [
        "print(tf.config.list_physical_devices())"
      ],
      "metadata": {
        "colab": {
          "base_uri": "https://localhost:8080/"
        },
        "id": "ejqdYOvMD2nV",
        "outputId": "abcd7051-eefb-437f-8b5f-167a5af22256"
      },
      "execution_count": null,
      "outputs": [
        {
          "output_type": "stream",
          "name": "stdout",
          "text": [
            "[PhysicalDevice(name='/physical_device:CPU:0', device_type='CPU'), PhysicalDevice(name='/physical_device:GPU:0', device_type='GPU')]\n"
          ]
        }
      ]
    },
    {
      "cell_type": "code",
      "source": [
        "layer = tf.keras.layers.Dense(100)\n",
        "layer = tf.keras.layers.Dense(10, input_shape = (None, 5))"
      ],
      "metadata": {
        "id": "nKwjMF1gD8Y2"
      },
      "execution_count": null,
      "outputs": []
    },
    {
      "cell_type": "code",
      "source": [
        "layer(tf.zeros([10, 5]))"
      ],
      "metadata": {
        "colab": {
          "base_uri": "https://localhost:8080/"
        },
        "id": "TUcXLQGXEL5M",
        "outputId": "d6c23815-2670-4541-b672-db380bcd476c"
      },
      "execution_count": null,
      "outputs": [
        {
          "output_type": "execute_result",
          "data": {
            "text/plain": [
              "<tf.Tensor: shape=(10, 10), dtype=float32, numpy=\n",
              "array([[0., 0., 0., 0., 0., 0., 0., 0., 0., 0.],\n",
              "       [0., 0., 0., 0., 0., 0., 0., 0., 0., 0.],\n",
              "       [0., 0., 0., 0., 0., 0., 0., 0., 0., 0.],\n",
              "       [0., 0., 0., 0., 0., 0., 0., 0., 0., 0.],\n",
              "       [0., 0., 0., 0., 0., 0., 0., 0., 0., 0.],\n",
              "       [0., 0., 0., 0., 0., 0., 0., 0., 0., 0.],\n",
              "       [0., 0., 0., 0., 0., 0., 0., 0., 0., 0.],\n",
              "       [0., 0., 0., 0., 0., 0., 0., 0., 0., 0.],\n",
              "       [0., 0., 0., 0., 0., 0., 0., 0., 0., 0.],\n",
              "       [0., 0., 0., 0., 0., 0., 0., 0., 0., 0.]], dtype=float32)>"
            ]
          },
          "metadata": {},
          "execution_count": 25
        }
      ]
    },
    {
      "cell_type": "code",
      "source": [
        "layer.variables"
      ],
      "metadata": {
        "colab": {
          "base_uri": "https://localhost:8080/"
        },
        "id": "WIxLT9H-EQsc",
        "outputId": "3e2e2c73-9a8a-43d8-aba8-cb7a1fde4a2c"
      },
      "execution_count": null,
      "outputs": [
        {
          "output_type": "execute_result",
          "data": {
            "text/plain": [
              "[<tf.Variable 'dense_1/kernel:0' shape=(5, 10) dtype=float32, numpy=\n",
              " array([[ 0.35406154,  0.09979361, -0.20109692,  0.0530178 , -0.04595423,\n",
              "         -0.57412034,  0.17480356, -0.2457934 ,  0.31882966, -0.02894747],\n",
              "        [ 0.20609665, -0.38175154,  0.12585121, -0.30997077,  0.5313062 ,\n",
              "         -0.22685066, -0.2716477 ,  0.18424624,  0.36317098, -0.44100082],\n",
              "        [-0.26811472, -0.40152574,  0.0050953 ,  0.59212595, -0.46947962,\n",
              "          0.34474063, -0.33980393, -0.2765954 ,  0.06437731,  0.03672153],\n",
              "        [ 0.29378808, -0.3960079 ,  0.02177531,  0.4742853 ,  0.31428486,\n",
              "          0.29790282,  0.29767138,  0.08527744,  0.36201006,  0.42728573],\n",
              "        [-0.18715209, -0.6177513 , -0.29402676,  0.49829656, -0.53848296,\n",
              "         -0.08091635,  0.32414824, -0.60431737,  0.08044118, -0.34890753]],\n",
              "       dtype=float32)>,\n",
              " <tf.Variable 'dense_1/bias:0' shape=(10,) dtype=float32, numpy=array([0., 0., 0., 0., 0., 0., 0., 0., 0., 0.], dtype=float32)>]"
            ]
          },
          "metadata": {},
          "execution_count": 27
        }
      ]
    },
    {
      "cell_type": "code",
      "source": [
        "layer.kernel, layer.bias"
      ],
      "metadata": {
        "colab": {
          "base_uri": "https://localhost:8080/"
        },
        "id": "I_R3qjefEkCF",
        "outputId": "1dcaa36e-90ef-4163-b967-85a142ac49d3"
      },
      "execution_count": null,
      "outputs": [
        {
          "output_type": "execute_result",
          "data": {
            "text/plain": [
              "(<tf.Variable 'dense_1/kernel:0' shape=(5, 10) dtype=float32, numpy=\n",
              " array([[ 0.35406154,  0.09979361, -0.20109692,  0.0530178 , -0.04595423,\n",
              "         -0.57412034,  0.17480356, -0.2457934 ,  0.31882966, -0.02894747],\n",
              "        [ 0.20609665, -0.38175154,  0.12585121, -0.30997077,  0.5313062 ,\n",
              "         -0.22685066, -0.2716477 ,  0.18424624,  0.36317098, -0.44100082],\n",
              "        [-0.26811472, -0.40152574,  0.0050953 ,  0.59212595, -0.46947962,\n",
              "          0.34474063, -0.33980393, -0.2765954 ,  0.06437731,  0.03672153],\n",
              "        [ 0.29378808, -0.3960079 ,  0.02177531,  0.4742853 ,  0.31428486,\n",
              "          0.29790282,  0.29767138,  0.08527744,  0.36201006,  0.42728573],\n",
              "        [-0.18715209, -0.6177513 , -0.29402676,  0.49829656, -0.53848296,\n",
              "         -0.08091635,  0.32414824, -0.60431737,  0.08044118, -0.34890753]],\n",
              "       dtype=float32)>,\n",
              " <tf.Variable 'dense_1/bias:0' shape=(10,) dtype=float32, numpy=array([0., 0., 0., 0., 0., 0., 0., 0., 0., 0.], dtype=float32)>)"
            ]
          },
          "metadata": {},
          "execution_count": 28
        }
      ]
    },
    {
      "cell_type": "code",
      "source": [
        "class MyDenseLayer(tf.keras.layers.Layer):\n",
        "  def __init__(self, num_outputs):\n",
        "    super(MyDenseLayer, self).__init__()\n",
        "    self.num_outputs = num_outputs\n",
        "\n",
        "  def build(self, input_shape):\n",
        "    self.kernel = self.add_weight(\"kernel\",\n",
        "                                 shape= [int(input_shape[-1]),\n",
        "                                         self.num_outputs])\n",
        "  def call(self, inputs):\n",
        "    return tf.matmul(inputs, self.kernel)\n",
        "layer = MyDenseLayer(10)"
      ],
      "metadata": {
        "id": "RCGqPn_VErM6"
      },
      "execution_count": null,
      "outputs": []
    },
    {
      "cell_type": "code",
      "source": [
        "_ = layer(tf.zeros([10,5]))"
      ],
      "metadata": {
        "id": "rdCmSCZjFt5A"
      },
      "execution_count": null,
      "outputs": []
    },
    {
      "cell_type": "code",
      "source": [
        "print([var.name for var in layer.trainable_variables])"
      ],
      "metadata": {
        "colab": {
          "base_uri": "https://localhost:8080/"
        },
        "id": "m721KLoKFxgv",
        "outputId": "31d58a2b-78cb-4c41-d746-3562b7035708"
      },
      "execution_count": null,
      "outputs": [
        {
          "output_type": "stream",
          "name": "stdout",
          "text": [
            "['my_dense_layer_1/kernel:0']\n"
          ]
        }
      ]
    },
    {
      "cell_type": "code",
      "source": [
        "class ResnetIdentityBlock(tf.keras.Model):\n",
        "  def __init__(self, kernel_size, filters):\n",
        "    super(ResnetIdentityBlock, self).__init__(name = '')\n",
        "    filters1, filters2, filters3 = filters\n",
        "\n",
        "    self.conv2a = tf.keras.layers.Conv2D(filters1, (1,1))\n",
        "    self.bn2a = tf.keras.layers.BatchNormalization()\n",
        "\n",
        "    self.conv2b = tf.keras.layers.Conv2D(filters2,kernel_size, padding = 'same')\n",
        "    self.bn2b = tf.keras.layers.BatchNormalization()\n",
        "\n",
        "    self.conv2c = tf.keras.layers.Conv2D(filters3, (1,1))\n",
        "    self.bn2c = tf.keras.layers.BatchNormalization()\n",
        "\n",
        "  def call(self, input_tensor, training = False):\n",
        "    x = self.conv2a(input_tensor)\n",
        "    x = self.bn2a(x, training = training)\n",
        "    x = tf.nn.relu(x)\n",
        "\n",
        "    x = self.conv2b(x)\n",
        "    x = self.bn2b(x, training = training)\n",
        "    x = tf.nn.relu(x)\n",
        "\n",
        "    x = self.conv2c(x)\n",
        "    x = self.bn2c(x, training = training)\n",
        "\n",
        "    x +=input_tensor\n",
        "    return tf.nn.relu(x)\n",
        "\n",
        "block = ResnetIdentityBlock(1, [1,2,3])"
      ],
      "metadata": {
        "id": "HJ5fSGxbF88k"
      },
      "execution_count": null,
      "outputs": []
    },
    {
      "cell_type": "code",
      "source": [
        "_ = block(tf.zeros([1,2,3,3]))\n",
        "\n"
      ],
      "metadata": {
        "id": "4wJsorDtJf3p"
      },
      "execution_count": null,
      "outputs": []
    },
    {
      "cell_type": "code",
      "source": [
        "block.layers"
      ],
      "metadata": {
        "colab": {
          "base_uri": "https://localhost:8080/"
        },
        "id": "nw8LzSpyKU5r",
        "outputId": "f6c2b1cd-1262-4e09-e805-441a10ab499a"
      },
      "execution_count": null,
      "outputs": [
        {
          "output_type": "execute_result",
          "data": {
            "text/plain": [
              "[<keras.src.layers.convolutional.conv2d.Conv2D at 0x7e7e8a164d00>,\n",
              " <keras.src.layers.normalization.batch_normalization.BatchNormalization at 0x7e7e87ec5990>,\n",
              " <keras.src.layers.convolutional.conv2d.Conv2D at 0x7e7e87ec4cd0>,\n",
              " <keras.src.layers.normalization.batch_normalization.BatchNormalization at 0x7e7e87ec4670>,\n",
              " <keras.src.layers.convolutional.conv2d.Conv2D at 0x7e7e87ec51e0>,\n",
              " <keras.src.layers.normalization.batch_normalization.BatchNormalization at 0x7e7e87ec68f0>]"
            ]
          },
          "metadata": {},
          "execution_count": 37
        }
      ]
    },
    {
      "cell_type": "code",
      "source": [
        "len(block.variables)"
      ],
      "metadata": {
        "colab": {
          "base_uri": "https://localhost:8080/"
        },
        "id": "q4igw0ZTKXBb",
        "outputId": "45d5391b-93fc-4dbe-deb4-47864870a4a4"
      },
      "execution_count": null,
      "outputs": [
        {
          "output_type": "execute_result",
          "data": {
            "text/plain": [
              "18"
            ]
          },
          "metadata": {},
          "execution_count": 38
        }
      ]
    },
    {
      "cell_type": "code",
      "source": [
        "block.summary()"
      ],
      "metadata": {
        "colab": {
          "base_uri": "https://localhost:8080/"
        },
        "id": "aM4Nrn_dKY84",
        "outputId": "0410a1ee-fa3a-49c1-83f0-69eea14df5a8"
      },
      "execution_count": null,
      "outputs": [
        {
          "output_type": "stream",
          "name": "stdout",
          "text": [
            "Model: \"\"\n",
            "_________________________________________________________________\n",
            " Layer (type)                Output Shape              Param #   \n",
            "=================================================================\n",
            " conv2d (Conv2D)             multiple                  4         \n",
            "                                                                 \n",
            " batch_normalization (Batch  multiple                  4         \n",
            " Normalization)                                                  \n",
            "                                                                 \n",
            " conv2d_1 (Conv2D)           multiple                  4         \n",
            "                                                                 \n",
            " batch_normalization_1 (Bat  multiple                  8         \n",
            " chNormalization)                                                \n",
            "                                                                 \n",
            " conv2d_2 (Conv2D)           multiple                  9         \n",
            "                                                                 \n",
            " batch_normalization_2 (Bat  multiple                  12        \n",
            " chNormalization)                                                \n",
            "                                                                 \n",
            "=================================================================\n",
            "Total params: 41 (164.00 Byte)\n",
            "Trainable params: 29 (116.00 Byte)\n",
            "Non-trainable params: 12 (48.00 Byte)\n",
            "_________________________________________________________________\n"
          ]
        }
      ]
    },
    {
      "cell_type": "code",
      "source": [
        "my_seq = tf.keras.Sequential([tf.keras.layers.Conv2D(1, (1, 1),\n",
        "                                                    input_shape=(\n",
        "                                                        None, None, 3)),\n",
        "                             tf.keras.layers.BatchNormalization(),\n",
        "                             tf.keras.layers.Conv2D(2, 1,\n",
        "                                                    padding='same'),\n",
        "                             tf.keras.layers.BatchNormalization(),\n",
        "                             tf.keras.layers.Conv2D(3, (1, 1)),\n",
        "                             tf.keras.layers.BatchNormalization()])\n",
        "my_seq(tf.zeros([1, 2, 3, 3]))"
      ],
      "metadata": {
        "colab": {
          "base_uri": "https://localhost:8080/"
        },
        "id": "o-d456JXKfj0",
        "outputId": "2fb5c5d7-3b11-4015-f3c5-749cac9ef7fb"
      },
      "execution_count": null,
      "outputs": [
        {
          "output_type": "execute_result",
          "data": {
            "text/plain": [
              "<tf.Tensor: shape=(1, 2, 3, 3), dtype=float32, numpy=\n",
              "array([[[[0., 0., 0.],\n",
              "         [0., 0., 0.],\n",
              "         [0., 0., 0.]],\n",
              "\n",
              "        [[0., 0., 0.],\n",
              "         [0., 0., 0.],\n",
              "         [0., 0., 0.]]]], dtype=float32)>"
            ]
          },
          "metadata": {},
          "execution_count": 40
        }
      ]
    },
    {
      "cell_type": "code",
      "source": [
        "my_seq.summary()\n"
      ],
      "metadata": {
        "colab": {
          "base_uri": "https://localhost:8080/"
        },
        "id": "qkRyeK70K6at",
        "outputId": "05e1544d-078d-4f54-ee38-9cd185375efc"
      },
      "execution_count": null,
      "outputs": [
        {
          "output_type": "stream",
          "name": "stdout",
          "text": [
            "Model: \"sequential\"\n",
            "_________________________________________________________________\n",
            " Layer (type)                Output Shape              Param #   \n",
            "=================================================================\n",
            " conv2d_3 (Conv2D)           (None, None, None, 1)     4         \n",
            "                                                                 \n",
            " batch_normalization_3 (Bat  (None, None, None, 1)     4         \n",
            " chNormalization)                                                \n",
            "                                                                 \n",
            " conv2d_4 (Conv2D)           (None, None, None, 2)     4         \n",
            "                                                                 \n",
            " batch_normalization_4 (Bat  (None, None, None, 2)     8         \n",
            " chNormalization)                                                \n",
            "                                                                 \n",
            " conv2d_5 (Conv2D)           (None, None, None, 3)     9         \n",
            "                                                                 \n",
            " batch_normalization_5 (Bat  (None, None, None, 3)     12        \n",
            " chNormalization)                                                \n",
            "                                                                 \n",
            "=================================================================\n",
            "Total params: 41 (164.00 Byte)\n",
            "Trainable params: 29 (116.00 Byte)\n",
            "Non-trainable params: 12 (48.00 Byte)\n",
            "_________________________________________________________________\n"
          ]
        }
      ]
    },
    {
      "cell_type": "code",
      "source": [],
      "metadata": {
        "id": "WW6nUZEiK9Lq"
      },
      "execution_count": null,
      "outputs": []
    }
  ]
}